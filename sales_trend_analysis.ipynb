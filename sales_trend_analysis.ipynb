# 📊 FMCG Sales Trend Analysis
# Author: Swathi Srikanth

import pandas as pd
import matplotlib.pyplot as plt
import seaborn as sns

# Load the dataset
df = pd.read_csv("data/fmcg_sales.csv")  # Update path if needed
df.head()

# Convert 'Date' column to datetime
df['Date'] = pd.to_datetime(df['Date'])

# Check for missing values
print("Missing values:\n", df.isnull().sum())

# Optional: Fill or drop missing values
df.dropna(inplace=True)

# Create 'Month' column for aggregation
df['Month'] = df['Date'].dt.to_period('M')

# Group by Month and Region
monthly_sales = df.groupby(['Month', 'Region'])['Sales_Amount'].sum().reset_index()
monthly_sales['Month'] = monthly_sales['Month'].dt.to_timestamp()

# Plot sales trend by region
plt.figure(figsize=(12,6))
sns.lineplot(data=monthly_sales, x='Month', y='Sales_Amount', hue='Region', marker='o')
plt.title("Monthly Sales Trend by Region")
plt.xlabel("Month")
plt.ylabel("Sales Amount")
plt.xticks(rotation=45)
plt.tight_layout()
plt.show()

